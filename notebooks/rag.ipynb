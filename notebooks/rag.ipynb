{
 "cells": [
  {
   "cell_type": "markdown",
   "metadata": {},
   "source": [
    "# RAG"
   ]
  },
  {
   "cell_type": "code",
   "execution_count": 2,
   "metadata": {},
   "outputs": [
    {
     "name": "stderr",
     "output_type": "stream",
     "text": [
      "USER_AGENT environment variable not set, consider setting it to identify your requests.\n"
     ]
    }
   ],
   "source": [
    "import os\n",
    "import re\n",
    "import time\n",
    "\n",
    "from dotenv import load_dotenv\n",
    "from typing import Dict, List\n",
    "from jinja2 import Template\n",
    "\n",
    "from langchain_core.documents.base import Document\n",
    "from langchain_core.output_parsers import JsonOutputParser\n",
    "from langchain_core.output_parsers import StrOutputParser\n",
    "from langchain_core.runnables import RunnablePassthrough\n",
    "\n",
    "from langchain.text_splitter import RecursiveCharacterTextSplitter\n",
    "from langchain.prompts import PromptTemplate\n",
    "\n",
    "from langchain_community.document_loaders import WebBaseLoader\n",
    "from langchain_community.vectorstores import FAISS\n",
    "from langchain_community.embeddings.fastembed import FastEmbedEmbeddings\n",
    "\n",
    "from langchain_openai.chat_models import ChatOpenAI \n"
   ]
  },
  {
   "cell_type": "code",
   "execution_count": 3,
   "metadata": {},
   "outputs": [
    {
     "data": {
      "text/plain": [
       "True"
      ]
     },
     "execution_count": 3,
     "metadata": {},
     "output_type": "execute_result"
    }
   ],
   "source": [
    "load_dotenv(dotenv_path='../src/.env')"
   ]
  },
  {
   "cell_type": "markdown",
   "metadata": {},
   "source": [
    "## Functions"
   ]
  },
  {
   "cell_type": "code",
   "execution_count": 4,
   "metadata": {},
   "outputs": [],
   "source": [
    "def load_urls(urls_path: str) -> List[str]:\n",
    "    with open(urls_path, \"r\", encoding=\"utf-8\") as file:\n",
    "        urls = [line.strip() for line in file if line.strip()]\n",
    "    return urls\n",
    "\n",
    "\n",
    "def load_documents(urls_list: List[str]) -> List[Document]:\n",
    "    docs = [WebBaseLoader(url).load() for url in urls_list]\n",
    "    docs_list = [item for sublist in docs for item in sublist]\n",
    "    print(f\"len of documents :{len(docs_list)}\")\n",
    "    return docs_list\n",
    "\n",
    "\n",
    "def preprocess_documents(documents: List[Document]) -> List[Document]:\n",
    "    for doc in documents:\n",
    "        doc.page_content = re.sub(r'\\n+', '\\n', doc.page_content.strip())\n",
    "    return documents\n",
    "\n",
    "\n",
    "def split_documents(documents: List[Document], chunk_size: int, chunk_overlap: int) -> List[Document]:\n",
    "    text_splitter = RecursiveCharacterTextSplitter.from_tiktoken_encoder(\n",
    "        chunk_size=chunk_size, chunk_overlap=chunk_overlap\n",
    "    )\n",
    "    doc_splits = text_splitter.split_documents(documents)\n",
    "    print(f\"length of document chunks generated :{len(doc_splits)}\")\n",
    "    return doc_splits\n",
    "\n",
    "\n",
    "def read_template_file(template_path: str) -> str:\n",
    "    with open(template_path, \"r\") as file:\n",
    "        template_content = file.read()\n",
    "\n",
    "    template = Template(template_content).render()\n",
    "    return template\n",
    "\n",
    "\n",
    "def create_prompt_template(template: str, input_variables: List[str]) -> PromptTemplate:\n",
    "    prompt = PromptTemplate(\n",
    "        template=template,\n",
    "        input_variables=input_variables,\n",
    "    )\n",
    "    return prompt\n",
    "\n",
    "\n",
    "def format_documents(documents: List[Document]) -> str:\n",
    "    return \"\\n\\n\".join(doc.page_content for doc in documents)\n"
   ]
  },
  {
   "cell_type": "markdown",
   "metadata": {},
   "source": [
    "### Implement the Retriever"
   ]
  },
  {
   "cell_type": "code",
   "execution_count": 5,
   "metadata": {},
   "outputs": [],
   "source": [
    "urls = load_urls('../data/urls.txt')"
   ]
  },
  {
   "cell_type": "code",
   "execution_count": 6,
   "metadata": {},
   "outputs": [
    {
     "name": "stdout",
     "output_type": "stream",
     "text": [
      "len of documents :8\n"
     ]
    }
   ],
   "source": [
    "documents = load_documents(urls)"
   ]
  },
  {
   "cell_type": "code",
   "execution_count": 7,
   "metadata": {},
   "outputs": [],
   "source": [
    "preprocessed_documents = preprocess_documents(documents)"
   ]
  },
  {
   "cell_type": "code",
   "execution_count": 8,
   "metadata": {},
   "outputs": [
    {
     "name": "stdout",
     "output_type": "stream",
     "text": [
      "length of document chunks generated :156\n"
     ]
    }
   ],
   "source": [
    "splitted_documents = split_documents(preprocessed_documents, chunk_size=1024, chunk_overlap=200)"
   ]
  },
  {
   "cell_type": "code",
   "execution_count": 9,
   "metadata": {},
   "outputs": [
    {
     "name": "stderr",
     "output_type": "stream",
     "text": [
      "/home/codespace/.python/current/lib/python3.12/site-packages/tqdm/auto.py:21: TqdmWarning: IProgress not found. Please update jupyter and ipywidgets. See https://ipywidgets.readthedocs.io/en/stable/user_install.html\n",
      "  from .autonotebook import tqdm as notebook_tqdm\n",
      "Fetching 5 files: 100%|██████████| 5/5 [00:00<00:00, 56073.58it/s]\n"
     ]
    }
   ],
   "source": [
    "embedding_model = FastEmbedEmbeddings(model_name=\"BAAI/bge-base-en-v1.5\")"
   ]
  },
  {
   "cell_type": "code",
   "execution_count": 10,
   "metadata": {},
   "outputs": [],
   "source": [
    "vectorstore = FAISS.from_documents(\n",
    "    documents=splitted_documents,\n",
    "    embedding=embedding_model\n",
    ")"
   ]
  },
  {
   "cell_type": "code",
   "execution_count": 11,
   "metadata": {},
   "outputs": [],
   "source": [
    "retriever = vectorstore.as_retriever(search_kwargs={\"k\":5})"
   ]
  },
  {
   "cell_type": "code",
   "execution_count": 12,
   "metadata": {},
   "outputs": [],
   "source": [
    "retrieved_documents = retriever.invoke(\"que necesito para entrar en Tailandia?\")"
   ]
  },
  {
   "cell_type": "markdown",
   "metadata": {},
   "source": [
    "### Implement the Router"
   ]
  },
  {
   "cell_type": "code",
   "execution_count": 13,
   "metadata": {},
   "outputs": [],
   "source": [
    "router_template = read_template_file('../prompts/router_prompt.jinja')"
   ]
  },
  {
   "cell_type": "code",
   "execution_count": 14,
   "metadata": {},
   "outputs": [],
   "source": [
    "router_prompt = create_prompt_template(router_template, input_variables=['question'])"
   ]
  },
  {
   "cell_type": "code",
   "execution_count": 15,
   "metadata": {},
   "outputs": [],
   "source": [
    "llm = ChatOpenAI(model='gpt-4o-mini')"
   ]
  },
  {
   "cell_type": "code",
   "execution_count": 16,
   "metadata": {},
   "outputs": [],
   "source": [
    "question_router = router_prompt | llm | JsonOutputParser()"
   ]
  },
  {
   "cell_type": "code",
   "execution_count": 17,
   "metadata": {},
   "outputs": [
    {
     "name": "stdout",
     "output_type": "stream",
     "text": [
      "{'datasource': 'vectorstore'}\n",
      "The time required to generate response by Router Chain in seconds:0.6525523662567139\n"
     ]
    }
   ],
   "source": [
    "start = time.time()\n",
    "\n",
    "question = \"Que necesito para visitar Vietnam?\"\n",
    "print(question_router.invoke({\"question\": question}))\n",
    "\n",
    "end = time.time()\n",
    "\n",
    "print(f\"The time required to generate response by Router Chain in seconds:{end - start}\")\n"
   ]
  },
  {
   "cell_type": "markdown",
   "metadata": {},
   "source": [
    "### Implement Generate Chain"
   ]
  },
  {
   "cell_type": "code",
   "execution_count": 18,
   "metadata": {},
   "outputs": [],
   "source": [
    "generator_template = read_template_file('../prompts/generator_prompt.jinja')"
   ]
  },
  {
   "cell_type": "code",
   "execution_count": 19,
   "metadata": {},
   "outputs": [],
   "source": [
    "generator_prompt = create_prompt_template(generator_template, input_variables=['question', 'context'])"
   ]
  },
  {
   "cell_type": "code",
   "execution_count": 20,
   "metadata": {},
   "outputs": [
    {
     "name": "stdout",
     "output_type": "stream",
     "text": [
      "Para entrar en Tailandia, necesitas los siguientes documentos:\n",
      "\n",
      "1. **Pasaporte**: Debe estar en vigor y tener una validez de al menos 6 meses desde la fecha de entrada al país.\n",
      "2. **Billete de avión**: Debes contar con un billete de avión de entrada a Tailandia y otro de salida del país.\n",
      "3. **Visado**: Si eres ciudadano español y vas a estar menos de 60 días como turista, no necesitas un visado previo. Sin embargo, si planeas quedarte más tiempo o si viajas por otros motivos, deberás tramitar un visado en la embajada o consulado.\n",
      "\n",
      "Además, si viajas desde una zona donde la fiebre amarilla es endémica, deberás presentar un certificado de vacunación internacional. También es recomendable tener un seguro de viaje para cubrir posibles gastos imprevistos."
     ]
    }
   ],
   "source": [
    "rag_chain = (\n",
    "    {\"context\": retriever | format_documents, \"question\": RunnablePassthrough()}\n",
    "    | generator_prompt\n",
    "    | llm\n",
    "    | StrOutputParser()\n",
    ")\n",
    "\n",
    "for chunk in rag_chain.stream(\"Qué necesito para entrar en tailandia?\"):\n",
    "    print(chunk, end=\"\", flush=True)\n"
   ]
  },
  {
   "cell_type": "code",
   "execution_count": 21,
   "metadata": {},
   "outputs": [
    {
     "name": "stdout",
     "output_type": "stream",
     "text": [
      "Para obtener un visado en Vietnam, específicamente la eVisa, necesitas lo siguiente:\n",
      "\n",
      "1. **Documentación**:\n",
      "   - Una foto de carné en formato digital.\n",
      "   - Una foto de la página principal de tu pasaporte en formato digital.\n",
      "   - Fecha de llegada a Vietnam.\n",
      "   - Número de tarjeta de crédito o débito para el pago.\n",
      "\n",
      "2. **Información adicional**:\n",
      "   - Datos del puerto de entrada y salida.\n",
      "   - Dirección de tu primer alojamiento en Vietnam.\n",
      "\n",
      "3. **Validación del pasaporte**:\n",
      "   - Tu pasaporte debe tener una validez mínima de 6 meses a partir de la fecha de entrada.\n",
      "\n",
      "4. **Pago**:\n",
      "   - La eVisa cuesta 25$ para una entrada y 50$ para múltiples entradas.\n",
      "\n",
      "Es recomendable tramitar la eVisa a través del portal oficial y no a través de agencias intermediarias. Una vez aprobada, recibirás el visado por correo electrónico y es aconsejable imprimirlo para mostrarlo al llegar al país."
     ]
    }
   ],
   "source": [
    "for chunk in rag_chain.stream(\"Qué necesito para obtener un visado en Vietnam?\"):\n",
    "    print(chunk, end=\"\", flush=True)"
   ]
  },
  {
   "cell_type": "markdown",
   "metadata": {},
   "source": [
    "### Implement Retrieval Grader"
   ]
  },
  {
   "cell_type": "code",
   "execution_count": 22,
   "metadata": {},
   "outputs": [],
   "source": [
    "retrieval_grader_template = read_template_file('../prompts/retrieval_grader_prompt.jinja')"
   ]
  },
  {
   "cell_type": "code",
   "execution_count": 23,
   "metadata": {},
   "outputs": [],
   "source": [
    "retrieval_grader_prompt = create_prompt_template(retrieval_grader_template, input_variables=['question', 'context'])"
   ]
  },
  {
   "cell_type": "code",
   "execution_count": 24,
   "metadata": {},
   "outputs": [],
   "source": [
    "retrieval_grader = retrieval_grader_prompt | llm | JsonOutputParser()"
   ]
  },
  {
   "cell_type": "code",
   "execution_count": 25,
   "metadata": {},
   "outputs": [],
   "source": [
    "retrieval_grader = retrieval_grader_prompt | llm | StrOutputParser()"
   ]
  },
  {
   "cell_type": "code",
   "execution_count": null,
   "metadata": {},
   "outputs": [],
   "source": []
  },
  {
   "cell_type": "code",
   "execution_count": 29,
   "metadata": {},
   "outputs": [
    {
     "name": "stdout",
     "output_type": "stream",
     "text": [
      "Billete de avión de entrada y salida de Tailandia\n",
      "Aunque suene a una obviedad para muchos viajeros, entre los documentos que se necesitan para viajar a Tailandia encontramos también el billete de avión. Para poder realizar este viaje deberás contar tanto con un billete de ida a Tailandia como con un billete de salida del país.\n",
      "Dado que muchos viajeros van a Tailandia con un plan de viaje bastante abierto y en ocasiones, si se sienten a gusto, optan por ampliar su estancia con un visado, puede que en el momento de comprar el vuelo de ida al país no sepas cuándo te vas a ir.\n",
      "Una de las soluciones por las que optan muchos viajeros es comprar un vuelo a Singapur, dado que es un destino cercano y el trayecto puede salir barato (puedes conseguir tu billete de avión por 40€), para una fecha cercana a la expiración del permiso de estancia en Tailandia. De esa manera, si finalmente optases por quedarte más tiempo, no perderías mucho dinero y, si te quisieras ir, desde Singapur podrías volar a prácticamente cualquier parte.\n",
      "Requisitos para viajar a Tailandia en 2024\n",
      " \n",
      "Como muchos otros países, Tailandia siguió la tendencia flexibilizadora y eliminó sus restricciones covid el 1 de octubre de 2022, permitiendo que se viajase como antes de la pandemia.\n",
      "Es decir, que lo que se necesita para viajar a Tailandia ahora  es: pasaporte, billete de salida y, si es necesario, el visado.\n",
      "Esta es la información que se tiene al respecto sobre los requisitos para viajar a Tailandia. Recuerda que es muy importante consultar fuentes oficiales antes de salir, pues estos pueden cambiar en cualquier momento.\n",
      " \n",
      " \n",
      "Vacunas para viajar a Tailandia, ¿obligatorias?\n",
      "Ten en cuenta que tendrás que haberte inyectado la de la fiebre amarilla y demostrarlo con tu certificado de vacunación internacional si vienes desde una zona donde esta enfermedad es endémica. No es el caso de España, pero tenlo en cuenta si viajas desde otros países.\n",
      "El Ministerio de Asuntos Exteriores de España que son vacunas recomendadas las de la hepatitis A y B, la rabia, la encefalitis japonesa, la del tétanos y la BCG (tuberculosis). Puedes leer más sobre este tema en nuestro artículo sobre vacunas para Tailandia.\n",
      "En cuanto a la vacuna contra el coronavirus, estar vacunado ahora no es un requisito para viajar a Tailandia.\n",
      "Permiso de conducir para Tailandia\n",
      "¿Tienes pensado conducir en Tailandia? En ese caso, necesitarás tramitar tu permiso de conducir internacional, ya que no será válido tu carné de conducir español. Además, debes tener presente que, aunque en España está permitido conducir una scooter de hasta 125 cc con el carné de tipo B, esto no es así en Tailandia y no se especifica en ningún lado en el permiso internacional. Por ello, si estás pensando en alquilar una moto y no tienes una licencia específica para conducirla, te arriesgas a llevarte una multa.\n",
      "\n",
      "Visado para viajar a Tailandia, ¿se necesita?\n",
      "Si eres ciudadano español y pretendes estar menos de 60 días en el país como turista, no tendrás que pedir ningún visado para viajar a Tailandia con antelación y podrás prorrogar tu estancia otros 60 días más en una oficina de inmigración tailandesa. En caso de que vayas a viajar con otros motivos o quieras estar más tiempo, tendrás que dirigirte a una embajada o consulado para pedir un visado.\n",
      "Si, por lo que sea, superas el límite de estancia permitido, es un delito conocido como overstay y castigado con pena de 500 bahts por día con un límite de 20.000 bahts. Lo peor es que las autoridades están facultadas a arrestarte, deportarte (a tu costa) y hasta prohibirte la entrada, algo que acostumbra a ocurrir si te pasas más de 42 días.\n",
      "A mediados de julio de 2024 se amplió la lista de países de América Latina se pueden acoger al programa de visa on arrival, es decir, de visado a la llegada, por el cual también recibirán 60 días de estancia en el país. Desde dicho día, pueden entrar sin visado mexicanos, colombianos, cubanos, dominicanos, ecuatorianos, guatemaltecos, panameños y uruguayos sin necesidad de visado. Los ciudadanos de El Salvador, Costa Rica, Bolivia, Venezuela y Paraguay podrán tramitar el visado a la llegada, en el propio aeropuerto.\n",
      "Por otro lado, desde el 22 de julio de 2024 se puede pedir la Destination Thailand Visa (DTV), un visado pensado para nómadas digitales. Esta permite teletrabajar en el país durante 180 días y extender la estancia otros 180 días más. Se tiene que tramitar con antelación y cuesta 10.000 bahts. Los aplicantes tienen que tener al menos 20 años, demostrar que cuentan con al menos 500.000 bahts para su estancia en el país y que tienen un empleador o un CV que muestre tus trabajos freelance. El visado es válido durante 5 años.\n",
      "Este visado se puede tramitar en un consulado o embajada tailandeses o a través de este portal. Si ya Tailandia era uno de los mejores destinos para nómadas digitales, esto lo pone aún más fácil.\n",
      "Qué se necesita para viajar a Tailandia\n",
      "El documento para viajar a Tailandia más importante es tu pasaporte. Comprueba que esté en vigor y que tenga una validez de al menos 6 meses desde la fecha de entrada al país.\n",
      "Recuerda que, si vas a viajar a Tailandia por otro motivo distinto al turismo o que si piensas permanecer más tiempo, deberás comprobar si necesitas un visado. En el caso de españoles que vayan a permanecer menos de 60 días haciendo turismo, no es necesario.\n",
      "Billete de avión de entrada y salida de Tailandia\n",
      "Aunque suene a una obviedad para muchos viajeros, entre los documentos que se necesitan para viajar a Tailandia encontramos también el billete de avión. Para poder realizar este viaje deberás contar tanto con un billete de ida a Tailandia como con un billete de salida del país.\n",
      "\n",
      "Los requisitos para viajar a Tailandia siempre han sido uno de los principales temas a tener en cuenta a la hora de preparar un viaje al antiguo Reino de Siam. Ahora, tras el “terremoto mundial” que provocó la pandemia, es necesario comprobar si a estos documentos para viajar a Tailandia se le han sumado nuevos que tener en cuenta. En este artículo vamos a repasarlos y responderemos a la pregunta que seguramente te estés haciendo ¿Se puede viajar a Tailandia desde España ahora y qué se necesita?\n",
      "¡Empezamos!\n",
      "Contenidos1 ¿Se puede viajar a Tailandia desde España ahora?1.1 Viajar a Tailandia en 2024 y con la situación actual2 Seguro de viaje, imprescindible para Tailandia3 Visado para viajar a Tailandia, ¿se necesita?4 Qué se necesita para viajar a Tailandia4.1 Billete de avión de entrada y salida de Tailandia5 Requisitos para viajar a Tailandia en 20246 Vacunas para viajar a Tailandia, ¿obligatorias?7 Permiso de conducir para Tailandia8 Requisitos para viajar a Tailandia desde España 2024, preguntas frecuentes\n",
      "¿Se puede viajar a Tailandia desde España ahora?\n",
      "Sí, se puede viajar a Tailandia ahora. Además, fue uno de los primeros países en ir relajando las restricciones de entrada debido a la pandemia, culminando con la eliminación total de requisitos covid en octubre de 2022. Es decir, que se puede viajar como antes de la pandemia.\n",
      "No solo esto, para promocionar el turismo en el país, en julio de 2024 se han ampliado los tiempos de estancia gratuita en el país para españoles y también se han sumado ciertos países a la lista de los que pueden acceder a Tailandia sin necesidad de visado.\n",
      "Si todavía estás un poco confuso con los movimientos fronterizos, no te preocupes, en IATI estamos constantemente actualizando nuestros artículos y aquí vamos a contarte todos los requisitos para viajar a Tailandia.\n",
      " \n",
      "Viajar a Tailandia en 2024 y con la situación actual\n",
      "¿Es seguro viajar a Tailandia ahora? Pues las cifras de contagios de covid en Tailandia ya llevan muchos meses muy bajas y no encontrarás casi ninguna restricción. Todas las atracciones turísticas están funcionando con tranquilidad.\n",
      "En cuanto a la vacunación contra la covid-19, Tailandia cuenta con casi un 77% de población con la pauta completa, aunque este porcentaje es muy superior en zonas turísticas como Phuket o Krabi.\n",
      "Con todo ello, viajar a Tailandia ahora no es 100% por seguro, ya que el riesgo de contagio sigue estando. Sin embargo, siguiendo las precauciones básicas, primando lugares abiertos y haciéndolo acompañado del mejor seguro de viaje a Tailandia, será mucho más seguro.\n",
      "Seguro de viaje, imprescindible para Tailandia\n",
      "Si antes viajar con seguro era una cuestión de precaución, ahora se ha convertido en algo fundamental para hacerlo protegido frente a posibles gastos imprevistos y viajar con la seguridad de que serás atendido en lugares de calidad sin tener que esperar.\n",
      "\n",
      "Adrià dice: \n",
      "8 abril, 2022 a las 8:00 pm \n",
      "Muy buenas, quería preguntar por los requisitos de entrada por tierra des de malasia a Tailandia.\n",
      "Muchas gracias!!\n",
      "Responder \n",
      " IATI Blog dice: \n",
      "9 abril, 2022 a las 10:44 am \n",
      "Hola Adrià. Entendemos que son los mismos, no hemos visto información sobre lo contrario. Un saludo.\n",
      "Responder \n",
      " Jon dice: \n",
      "27 marzo, 2022 a las 11:53 pm \n",
      "Buenas! Vamos del 28 de Julio al 18 de agosto a Tailandia y nos gustaría coger seguro mochilero con cancelación para los 21 días. Por el momento el gobierno de Tailandia exige coger 10 días extra pero supongo que esto cambiará cara al verano… Me veo en la obligación de tener que coger el seguro ya para que me cubra el vuelo en caso de cancelación, por lo que mi pregunta es la siguiente: Se podría coger seguro de mochilero con cancelación del 28 al 18 y luego en caso de necesitar 10 días extra, coger un seguro de Iati básico para esos días en concreto?  No sé si el gobierno de Tailandia me exige que el mismo seguro tenga una validez de 10 días más o si puedo coger dos seguros separados, no se si me he explicado bien.\n",
      "Muchas gracias!!\n",
      "Responder \n",
      " IATI Blog dice: \n",
      "29 marzo, 2022 a las 4:55 pm \n",
      "Hola Jon. Es una muy buena pregunta, pero la verdad es que no sabemos si el gobierno tailandés aceptaría la combinación. Lo más normal sería que sí, pero no podemos asegurarlo. Por otro lado, todo apunta a que de cara julio quiten muchas de las restricciones y quizá, como dices, ya no haga falta ese plus de 10 días. Nos encantaría poder ayudarte pero las fuentes oficiales no contemplan este caso. Un saludo.\n",
      "Responder \n",
      " Patricia dice: \n",
      "27 marzo, 2022 a las 11:01 am \n",
      "Hola, mi pareja y yo viajaremos a Tailandia en junio, he leído en algunas webs que a partir del 1 de abril quitan la PCR obligatoria que te tienes que hacer antes de volar, ósea desde España. Esto es así?\n",
      "Y otra duda, el programa test&go,  cuánto cuesta? Gracias!\n",
      "Responder \n",
      " IATI Blog dice: \n",
      "27 marzo, 2022 a las 1:27 pm \n",
      "Hola Patricia. La semana que viene actualizamos con los nuevos requisitos, pero es probable que así sea 🙂\n",
      "Responder \n",
      " Alvaro dice: \n",
      "26 marzo, 2022 a las 3:04 pm \n",
      "Buenas! Acabo de reservar un viaje y solicitado el ThailandPass con el “test and go”. Pero necesitan entre 3 a 7 días para confirmarte y mi vuelo es en 4 días. Llego el 1 de abril. Alguien sabe que pasa si llegas a Tailandia, con todos los requisitos del “test and go”, pero sin la resolución de este? Muchas gracias\n",
      "Responder \n",
      " Rigo dice: \n",
      "25 marzo, 2022 a las 8:59 pm \n",
      "Hola, tengo una pregunta, ya que mi destino final es Camboya, pero hago escala en Tailandia ( sin salir del aeropuerto ) que necesito para poder estar en el aeropuerto? Tengo pauta completa y llevare PCR antes de 72 horas de la salida del vuelo. Gracias\n",
      "\n",
      "Por otro lado, queríamos pasar los últimos 3 días (a nuestra vuelta de Vietnam) en Tailandia, de donde sale el vuelo de vuelta a España. En esta otra ocasión, habría que hacer la primera noche obligada en Bangkok? Se aplican igualmente el resto de requisitos aun yendo a estar solo 3 días? \n",
      "Muchas gracias de antemano.\n",
      "Responder \n",
      " IATI Blog dice: \n",
      "27 marzo, 2022 a las 1:45 pm \n",
      "Hola Eduardo. Al salir de un aeropuerto para ir a otro tendrías que pasar por inmigración y, por lo tanto, cumplir los requisitos de Tailandia aunque solo estés unas horas en el país. Es indiferente si vas a estar 3 días o una semana, para entrar al país exigen cumplir sus requisitos. Un saludo.\n",
      "Responder \n",
      " Bea dice: \n",
      "21 marzo, 2022 a las 9:49 am \n",
      "Gracias por la información. Tenemos intención de ir a Vietnam, a finales de agosto, pero primero, nuestro viaje haría unas horas en Bangkok, unas 24h, ¿qué sería necesario?\n",
      "Responder \n",
      " IATI Blog dice: \n",
      "21 marzo, 2022 a las 7:03 pm \n",
      "Hola Bea. A día de hoy tendrías que cumplir los requisitos aquí explicados. Pero parece que pronto Tailandia levantará la mayoría de restricciones y es muy posible que no tengas problemas de cara a agosto. Un saludo.\n",
      "Responder \n",
      " Cristina dice: \n",
      "18 marzo, 2022 a las 4:21 pm \n",
      "Hola!!!\n",
      "Me encanta toda la información que compartis y lo claro que lo explicais!\n",
      "Estamos deseando ir a Tailandia, tenemos pensado ir en agosto!\n",
      "A día de hoy para viajar a Tailandia no hace falta cuarentena con el programa Test&go verdad?\n",
      "Es que ayer consultando otras paginas ponía que los vacunados tenían que hacer 10 días de cuarentena y los vacunados 7 días, y como esto cambia cada 2×3 da cosa hacer planes a larga distancia por lo que pueda pasar…\n",
      "Gracias por todo, un saludo!!!\n",
      "Responder \n",
      " IATI Blog dice: \n",
      "20 marzo, 2022 a las 7:07 pm \n",
      "Hola Cristina. Así es. 🙂 Con el Test&Go no hace falta. Y parece que el 1 de abril todavía pondrán más fácil las cosas. Un abrazo.\n",
      "Responder \n",
      " Miguel Angel dice: \n",
      "17 marzo, 2022 a las 9:12 pm \n",
      "hola,  si e entendido bien, respecto a los hoteles, solo es obligatorio la primera noche en un hotel SHA++, el resto de noches puede ser en cualquier hotel. estare 21 dias en Tailandia cambiando de hotel y lugar cada dia o cada 2 dias,  y el hotel del 5 dia  para la segunda prueba,puede ser cualquier hotel  y lugar de tailandia .por cierto,tengo las tres vacunas. muchas gracias\n",
      "Responder \n",
      " Sergio dice: \n",
      "15 marzo, 2022 a las 12:32 am \n",
      "Buenas, tengo 2 vacunas COVID pero la última fue en junio del 2021 y leí que el pasaporte COVID caducaba a los 9 meses pero no he vuelto a leer nada sobre eso. Hay algún problema a la hora de entrar o tendría que ponerme la tercera?\n",
      "Responder \n",
      " IATI Blog dice: \n",
      "16 marzo, 2022 a las 11:50 pm\n",
      "--------------------\n",
      "```json\n",
      "{\"score\":\"yes\"}\n",
      "```\n",
      "The time required to generate response by the retrieval grader in seconds:3.126042604446411\n"
     ]
    }
   ],
   "source": [
    "start = time.time()\n",
    "\n",
    "question = 'Qué necesito para entrar en Tailandia?'\n",
    "context = retriever.invoke(question)\n",
    "\n",
    "print(format_documents(context))\n",
    "print(f'{\"-\"*20}')\n",
    "\n",
    "print(retrieval_grader.invoke({\"question\": question, \"context\": context}))\n",
    "\n",
    "end = time.time()\n",
    "print(f\"The time required to generate response by the retrieval grader in seconds:{end - start}\")"
   ]
  },
  {
   "cell_type": "code",
   "execution_count": null,
   "metadata": {},
   "outputs": [],
   "source": []
  },
  {
   "cell_type": "code",
   "execution_count": null,
   "metadata": {},
   "outputs": [],
   "source": []
  },
  {
   "cell_type": "code",
   "execution_count": null,
   "metadata": {},
   "outputs": [],
   "source": []
  },
  {
   "cell_type": "code",
   "execution_count": null,
   "metadata": {},
   "outputs": [],
   "source": []
  }
 ],
 "metadata": {
  "kernelspec": {
   "display_name": "Python 3",
   "language": "python",
   "name": "python3"
  },
  "language_info": {
   "codemirror_mode": {
    "name": "ipython",
    "version": 3
   },
   "file_extension": ".py",
   "mimetype": "text/x-python",
   "name": "python",
   "nbconvert_exporter": "python",
   "pygments_lexer": "ipython3",
   "version": "3.12.1"
  }
 },
 "nbformat": 4,
 "nbformat_minor": 2
}
