{
 "cells": [
  {
   "cell_type": "markdown",
   "metadata": {},
   "source": [
    "# RAG"
   ]
  },
  {
   "cell_type": "code",
   "execution_count": 25,
   "metadata": {},
   "outputs": [],
   "source": [
    "import os\n",
    "import re\n",
    "\n",
    "from dotenv import load_dotenv\n",
    "from typing import Dict, List\n",
    "\n",
    "from langchain_community.document_loaders import WebBaseLoader\n",
    "from langchain_core.documents.base import Document\n",
    "from langchain.text_splitter import RecursiveCharacterTextSplitter"
   ]
  },
  {
   "cell_type": "code",
   "execution_count": 6,
   "metadata": {},
   "outputs": [
    {
     "data": {
      "text/plain": [
       "True"
      ]
     },
     "execution_count": 6,
     "metadata": {},
     "output_type": "execute_result"
    }
   ],
   "source": [
    "load_dotenv(dotenv_path='../src/.env')"
   ]
  },
  {
   "cell_type": "markdown",
   "metadata": {},
   "source": [
    "## Functions"
   ]
  },
  {
   "cell_type": "code",
   "execution_count": 22,
   "metadata": {},
   "outputs": [],
   "source": [
    "def load_urls(urls_path: str) -> List[str]:\n",
    "    with open(urls_path, \"r\", encoding=\"utf-8\") as file:\n",
    "        urls = [line.strip() for line in file if line.strip()]\n",
    "    return urls\n",
    "\n",
    "\n",
    "def load_documents(urls_list: List[str]) -> List[Document]:\n",
    "    docs = [WebBaseLoader(url).load() for url in urls_list]\n",
    "    docs_list = [item for sublist in docs for item in sublist]\n",
    "    print(f\"len of documents :{len(docs_list)}\")\n",
    "    return docs_list\n",
    "\n",
    "\n",
    "def preprocess_documents(documents: List[Document]) -> List[Document]:\n",
    "    for doc in documents:\n",
    "        doc.page_content = re.sub(r'\\n+', '\\n', doc.page_content.strip())\n",
    "    return documents\n",
    "\n",
    "\n",
    "def split_documents(documents: List[Document], chunk_size: int, chunk_overlap: int) -> List[Document]:\n",
    "    text_splitter = RecursiveCharacterTextSplitter.from_tiktoken_encoder(\n",
    "        chunk_size=chunk_size, chunk_overlap=chunk_overlap\n",
    "    )\n",
    "    doc_splits = text_splitter.split_documents(documents)\n",
    "    print(f\"length of document chunks generated :{len(doc_splits)}\")\n",
    "    return doc_splits\n"
   ]
  },
  {
   "cell_type": "code",
   "execution_count": 11,
   "metadata": {},
   "outputs": [],
   "source": [
    "urls = load_urls('../data/urls.txt')"
   ]
  },
  {
   "cell_type": "code",
   "execution_count": 14,
   "metadata": {},
   "outputs": [
    {
     "name": "stdout",
     "output_type": "stream",
     "text": [
      "len of documents :8\n"
     ]
    }
   ],
   "source": [
    "documents = load_documents(urls)"
   ]
  },
  {
   "cell_type": "code",
   "execution_count": 18,
   "metadata": {},
   "outputs": [],
   "source": [
    "preprocessed_documents = preprocess_documents(documents)"
   ]
  },
  {
   "cell_type": "code",
   "execution_count": 26,
   "metadata": {},
   "outputs": [
    {
     "name": "stdout",
     "output_type": "stream",
     "text": [
      "length of document chunks generated :156\n"
     ]
    }
   ],
   "source": [
    "splitted_documents = split_documents(preprocessed_documents, chunk_size=1024, chunk_overlap=200)"
   ]
  },
  {
   "cell_type": "code",
   "execution_count": 29,
   "metadata": {},
   "outputs": [
    {
     "name": "stdout",
     "output_type": "stream",
     "text": [
      "Visado de Turista (Entrada única) - Royal Thai Embassy, Madrid, Spain (34) 91 563 2903 (34) 91 564 0033 [email protected] Monday - Friday 09.00-17.00 hrs. except the Royal Thai Embassy holidaysAAALanguage EnglishThaiRoyal Thai Embassy, Madrid, Spainสถานเอกอัครราชทูต ณ กรุงมาดริดFollow us: Royal Thai Embassy, Madrid, SpainLanguage EnglishThaiHomeAbout us AmbassadorOffices/ contactsWorking Hours and HolidaysNews Top StoriesTravel Tourists InformationVat RefundThai Restaurants in Spain and AndorraBusiness Trade InformationInvestmentEastern Economic Corridor Service Public Health Measures for Entering ThailandVisaLegalizationBringing Pets to ThailandRestricted MedicinesYellow FeverConsular Service Fees/ Tasas de los servicios consularesMinistry of Foreigh AffairsThailand Link Thailand LinkHomeAbout usAmbassadorOffices/ contactsWorking Hours and HolidaysNewsTop StoriesTravelTourists InformationVat RefundThai Restaurants in Spain and AndorraBusinessTrade InformationInvestmentEastern Economic Corridor ServicePublic Health Measures for Entering ThailandVisaLegalizationBringing Pets to ThailandRestricted MedicinesYellow FeverConsular Service Fees/ Tasas de los servicios consularesMinistry of Foreigh AffairsThailand LinkThailand LinkHomePublic ServicesInformación VisadosVisado de Turista (Entrada única)Visado de Turista (Entrada única)Visado de Turista (Entrada única) วันที่นำเข้าข้อมูล 30 Oct 2022 วันที่ปรับปรุงข้อมูล 9 Nov 2023| 92,446 viewToggle DropdownVisado de Turista (Entrada única) (e-Visa desde el 1 de noviembre de 2022)\n",
      "Nacionales no tailandeses, es decir, las personas con nacionalidad española y andorrana, y de otras nacionalidades, pero con residencia en España y Andorra, que deseen solicitar un visado para Tailandia deberán presentar la solicitud a través de la nueva plataforma de visado electrónico (e-Visa) online en https://www.thaievisa.go.th, con pagos online. (No es necesario que el solicitante presente su pasaporte y los documentos justificativos originales en persona.)\n",
      "Los españoles y los ciudadanos de los países que están en el Programa de Exención del visado de turista pueden permanecer en Tailandia por motivo turístico hasta 30 días sin visado siempre que puedan demostrar el billete de salida del país en 30 días. En caso contrario, deben solicitar el visado de turista. Este visado tiene una validez de 90 días desde de su expedición. Y permite la estancia de 60 días desde la fecha de entrada al país de manera ininterrumpida con la posibilidad de extender 30 días más en la oficina de Inmigración en Tailandia. Al salir del país, el visado deja de ser válido. \n",
      "Los documentos que hay que presentar para obtener este visado son:\n",
      "Pasaporte Biométrico o documento de viaje con una validez no menor de 6 meses\n",
      "1 fotografía, de frente sin gafas de sol y con la cabeza descubierta (tomadas como máximo 6 meses antes)\n"
     ]
    }
   ],
   "source": [
    "print(splitted_documents[0].page_content)"
   ]
  },
  {
   "cell_type": "code",
   "execution_count": 30,
   "metadata": {},
   "outputs": [
    {
     "name": "stdout",
     "output_type": "stream",
     "text": [
      "Los documentos que hay que presentar para obtener este visado son:\n",
      "Pasaporte Biométrico o documento de viaje con una validez no menor de 6 meses\n",
      "1 fotografía, de frente sin gafas de sol y con la cabeza descubierta (tomadas como máximo 6 meses antes)\n",
      "En caso de que su nacionalidad no sea española, la tarjeta de residencia NIE. Los ciudadanos con residencia legal en Andorra, pero de distinta nacionalidad, deben aportar fotocopia de la tarjeta de residencia andorrana. Si no dispone de residencia legal en España, NO puede solicitar visado de turista en este consulado.  \n",
      "El billete de ida y vuelta, o ida y salida hacia un tercer país o la reserva de billete.\n",
      "Las reservas confirmadas de hotel para toda la estancia en Tailandia, de acuerdo a las fechas de los billetes de entrada y salida que presente.\n",
      "35 euros \n",
      "Nota Importante: La Embajada se reserva el derecho a solicitar otros documentos adicionales si fuera necesario. La Embajada tiene también el derecho de conceder el tipo de visado que considere en función de la documentación presentada y la situación del solicitante. TOPRoyal Thai Embassy, Madrid, Spain สถานเอกอัครราชทูต ณ กรุงมาดริดCalle Joaquin Costa, 29, 28002 Madrid Consular SectionWorking hours: Monday - Friday 09.30-13.30 hrs.E-mail: [email protected] (Preferable) Tel: +34 915632903 ext. 101, 102, 103 (Monday-Friday 15.00-17.00 hrs. except the Royal Thai Embassy holidays) (34) 91 563 2903 (34) 91 564 0033 [email protected]Follow us:Sitemap HomeAbout us-Ambassador-Offices/ contacts-Working Hours and HolidaysNews-Top StoriesTravel-Tourists Information-Vat Refund-Thai Restaurants in Spain and AndorraBusiness-Trade Information-Investment-Eastern Economic CorridorService-Announcement-Visa-LegalizationMinistry of Foreigh AffairsThailand Link-Thailand LinkHome About us AmbassadorOffices/ contactsWorking Hours and HolidaysNews Top StoriesTravel Tourists InformationVat RefundThai Restaurants in Spain and AndorraBusiness Trade InformationInvestmentEastern Economic CorridorService AnnouncementVisaLegalizationMinistry of Foreigh Affairs Thailand Link Thailand LinkCopyright © 2012-2014  MFA All rights reserved.\n"
     ]
    }
   ],
   "source": [
    "print(splitted_documents[1].page_content)"
   ]
  }
 ],
 "metadata": {
  "kernelspec": {
   "display_name": "Python 3",
   "language": "python",
   "name": "python3"
  },
  "language_info": {
   "codemirror_mode": {
    "name": "ipython",
    "version": 3
   },
   "file_extension": ".py",
   "mimetype": "text/x-python",
   "name": "python",
   "nbconvert_exporter": "python",
   "pygments_lexer": "ipython3",
   "version": "3.12.1"
  }
 },
 "nbformat": 4,
 "nbformat_minor": 2
}
